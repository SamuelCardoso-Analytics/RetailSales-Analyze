{
 "cells": [
  {
   "cell_type": "code",
   "execution_count": 0,
   "metadata": {
    "application/vnd.databricks.v1+cell": {
     "cellMetadata": {
      "byteLimit": 2048000,
      "rowLimit": 10000
     },
     "collapsed": true,
     "inputWidgets": {},
     "nuid": "cd734d60-724e-4be8-bf73-4556611a496a",
     "showTitle": false,
     "tableResultSettingsMap": {},
     "title": ""
    }
   },
   "outputs": [],
   "source": [
    "import numpy as np \n",
    "import pandas as pd \n",
    "import matplotlib.pyplot as plt\n",
    "import seaborn as sns \n",
    "import datetime as dt "
   ]
  },
  {
   "cell_type": "code",
   "execution_count": 0,
   "metadata": {
    "application/vnd.databricks.v1+cell": {
     "cellMetadata": {
      "byteLimit": 2048000,
      "implicitDf": true,
      "rowLimit": 10000
     },
     "inputWidgets": {},
     "nuid": "aba51f10-941b-4ac8-a4a7-498717f3c90e",
     "showTitle": false,
     "tableResultSettingsMap": {},
     "title": ""
    }
   },
   "outputs": [],
   "source": [
    "df = spark.table('default.sample_superstore')\n",
    "df = df.toPandas()\n",
    "\n",
    "qnt_linhas = df.shape \n",
    "nome_colunas = df.columns\n",
    "tipo_dados = df.dtypes\n",
    "estat_resumo = df['Sales'].describe() # valido somente para variaveis quantitativa\n",
    "qnt_duplicados = df[df.duplicated]\n",
    "qnt_nulos = df.isnull().sum()\n",
    "\n",
    "analise_exploratoria = (\n",
    "    f'Quatidade de linhas por colunas: {qnt_linhas}\\n'\n",
    "    '\\n'\n",
    "    f'Nome das colunas: \\n{nome_colunas}\\n'\n",
    "    '\\n'\n",
    "    f'Tipo de dado de cada coluna: \\n{tipo_dados}\\n'\n",
    "    '\\n'\n",
    "    f'Resumo estatístico da coluna vendas: \\n{estat_resumo}\\n'\n",
    "    '\\n'\n",
    "    f'Dados duplicados: \\n{qnt_duplicados}\\n'\n",
    "    '\\n'\n",
    "    f'Dados nulos: \\n{qnt_nulos}\\n'\n",
    ")\n",
    "\n",
    "print(analise_exploratoria)"
   ]
  }
 ],
 "metadata": {
  "application/vnd.databricks.v1+notebook": {
   "computePreferences": null,
   "dashboards": [],
   "environmentMetadata": {
    "base_environment": "",
    "environment_version": "2"
   },
   "inputWidgetPreferences": null,
   "language": "python",
   "notebookMetadata": {
    "mostRecentlyExecutedCommandWithImplicitDF": {
     "commandId": -1,
     "dataframes": [
      "_sqldf"
     ]
    },
    "pythonIndentUnit": 4
   },
   "notebookName": "Analyze",
   "widgets": {}
  },
  "language_info": {
   "name": "python"
  }
 },
 "nbformat": 4,
 "nbformat_minor": 0
}
