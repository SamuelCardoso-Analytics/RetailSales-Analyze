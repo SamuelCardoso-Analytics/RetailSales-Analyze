{
 "cells": [
  {
   "cell_type": "code",
   "execution_count": 0,
   "metadata": {
    "application/vnd.databricks.v1+cell": {
     "cellMetadata": {
      "byteLimit": 2048000,
      "rowLimit": 10000
     },
     "collapsed": true,
     "inputWidgets": {},
     "nuid": "cd734d60-724e-4be8-bf73-4556611a496a",
     "showTitle": false,
     "tableResultSettingsMap": {},
     "title": ""
    }
   },
   "outputs": [],
   "source": [
    "import numpy as np \n",
    "import pandas as pd \n",
    "import matplotlib.pyplot as plt\n",
    "import seaborn as sns \n",
    "import datetime as dt "
   ]
  },
  {
   "cell_type": "code",
   "execution_count": 0,
   "metadata": {
    "application/vnd.databricks.v1+cell": {
     "cellMetadata": {
      "byteLimit": 2048000,
      "rowLimit": 10000
     },
     "collapsed": true,
     "inputWidgets": {},
     "nuid": "6ebab178-309f-4ace-9ee7-ab0fb3516108",
     "showTitle": false,
     "tableResultSettingsMap": {},
     "title": ""
    }
   },
   "outputs": [],
   "source": [
    "df = spark.table('default.sample_superstore').toPandas()\n",
    "\n",
    "qnt_linhas = str(df.shape)\n",
    "nome_colunas = str(df.columns.tolist())\n",
    "tipo_dados = str(df.dtypes.to_dict())\n",
    "estat_resumo = df['Sales'].describe().to_string() # valido somente para variaveis quantitativa\n",
    "qnt_duplicados = str(df[df.duplicated()].shape[0])\n",
    "qnt_nulos = str(df.isnull().sum().to_dict())  \n",
    "\n",
    "analise_exploratoria = pd.DataFrame({\n",
    "    'Análise': ['Quantidade linhas/colunas', 'Nome das colunas', 'Tipo de dados das colunas', \n",
    "        'Resumo estatístico (Vendas)', 'Total dados duplicados', 'Total dados nulos'],\n",
    "    'Resultados': [qnt_linhas, nome_colunas, tipo_dados, estat_resumo, qnt_duplicados, qnt_nulos]\n",
    "})\n",
    "\n",
    "display(analise_exploratoria)\n",
    "analise_exploratoria.to_markdown()"
   ]
  },
  {
   "cell_type": "markdown",
   "metadata": {
    "application/vnd.databricks.v1+cell": {
     "cellMetadata": {
      "byteLimit": 2048000,
      "rowLimit": 10000
     },
     "inputWidgets": {},
     "nuid": "e4261da0-a64e-4898-b7cf-c741e98da911",
     "showTitle": false,
     "tableResultSettingsMap": {},
     "title": ""
    }
   },
   "source": [
    " **1** - Qual a **cidade** com maior **valor de venda** de produtos da **categoria** Office Supplies?"
   ]
  },
  {
   "cell_type": "code",
   "execution_count": 0,
   "metadata": {
    "application/vnd.databricks.v1+cell": {
     "cellMetadata": {
      "byteLimit": 2048000,
      "rowLimit": 10000
     },
     "inputWidgets": {},
     "nuid": "1ef4b743-d0c9-4613-a9dd-3da3568857b8",
     "showTitle": false,
     "tableResultSettingsMap": {},
     "title": ""
    }
   },
   "outputs": [],
   "source": [
    "filtro_categoria = df[df['Category'] == 'Office Supplies']\n",
    "group_cidade_venda = filtro_categoria.groupby('City', as_index= False)['Sales'].sum()\n",
    "ranking = group_cidade_venda.sort_values('Sales', ascending = False).head(3)\n",
    "display(ranking)\n",
    "# ranking.to_markdown()"
   ]
  },
  {
   "cell_type": "markdown",
   "metadata": {
    "application/vnd.databricks.v1+cell": {
     "cellMetadata": {
      "byteLimit": 2048000,
      "rowLimit": 10000
     },
     "inputWidgets": {},
     "nuid": "9a03a568-c2fd-4250-91d4-c6535c0d0e41",
     "showTitle": false,
     "tableResultSettingsMap": {},
     "title": ""
    }
   },
   "source": [
    "**2** - Qual o total de **vendas** por **data do pedido**? (Em gráfico de barras)"
   ]
  },
  {
   "cell_type": "code",
   "execution_count": 0,
   "metadata": {
    "application/vnd.databricks.v1+cell": {
     "cellMetadata": {
      "byteLimit": 2048000,
      "rowLimit": 10000
     },
     "inputWidgets": {},
     "nuid": "a1b783bb-68ac-4f66-bbf9-3b49cd581969",
     "showTitle": false,
     "tableResultSettingsMap": {},
     "title": ""
    }
   },
   "outputs": [],
   "source": [
    "df['Order Date'] = pd.to_datetime(df['Order Date'])\n",
    "group_vendas_data = df.groupby('Order Date')['Sales'].sum().reset_index()\n",
    "plt.figure(figsize=(20, 6))\n",
    "plt.plot(group_vendas_data['Order Date'], group_vendas_data['Sales'], color='green')\n",
    "plt.title('Total de vendas por data de pedido')\n",
    "plt.xlabel('Order Date')\n",
    "plt.ylabel('Sales')\n",
    "# plt.savefig('total_vendas_data.png')\n",
    "plt.show()"
   ]
  },
  {
   "cell_type": "markdown",
   "metadata": {
    "application/vnd.databricks.v1+cell": {
     "cellMetadata": {
      "byteLimit": 2048000,
      "rowLimit": 10000
     },
     "inputWidgets": {},
     "nuid": "2b41f297-494d-494f-809d-3ed1c4643e23",
     "showTitle": false,
     "tableResultSettingsMap": {},
     "title": ""
    }
   },
   "source": [
    "**3** - Qual o total de **vendas** por **estado**? (Em gráfico de barras)"
   ]
  },
  {
   "cell_type": "code",
   "execution_count": 0,
   "metadata": {
    "application/vnd.databricks.v1+cell": {
     "cellMetadata": {
      "byteLimit": 2048000,
      "rowLimit": 10000
     },
     "inputWidgets": {},
     "nuid": "5afba6c8-7e87-46ba-8803-047a62751c5d",
     "showTitle": false,
     "tableResultSettingsMap": {},
     "title": ""
    }
   },
   "outputs": [],
   "source": [
    "group_estado_venda = df.groupby('State')['Sales'].sum().reset_index()\n",
    "plt.figure(figsize = (16, 6))\n",
    "sns.barplot(data = group_estado_venda, y = 'Sales', x = 'State').set(title = 'Quantidade de vendas por estado')\n",
    "plt.xticks(rotation = 80)\n",
    "# plt.savefig('quantidade_vendas_estado.png')\n",
    "plt.show()"
   ]
  },
  {
   "cell_type": "markdown",
   "metadata": {
    "application/vnd.databricks.v1+cell": {
     "cellMetadata": {
      "byteLimit": 2048000,
      "rowLimit": 10000
     },
     "inputWidgets": {},
     "nuid": "5bb4164a-084f-4425-8de6-e99a5e578656",
     "showTitle": false,
     "tableResultSettingsMap": {},
     "title": ""
    }
   },
   "source": [
    "**4** - Quais são as **10 cidades** com mais **vendas**? (Em gráfico de barras)"
   ]
  },
  {
   "cell_type": "code",
   "execution_count": 0,
   "metadata": {
    "application/vnd.databricks.v1+cell": {
     "cellMetadata": {
      "byteLimit": 2048000,
      "rowLimit": 10000
     },
     "inputWidgets": {},
     "nuid": "0d7ca119-cb48-4283-9a80-5e621905387a",
     "showTitle": false,
     "tableResultSettingsMap": {},
     "title": ""
    }
   },
   "outputs": [],
   "source": [
    "group_vendas_cidades = df.groupby('City')['Sales'].sum().reset_index()\n",
    "top_vendas_cidades = group_vendas_cidades.sort_values(by = 'Sales', ascending = False).head(10)\n",
    "plt.figure(figsize = (16, 6))\n",
    "sns.set_palette('coolwarm')\n",
    "sns.barplot(data = top_vendas_cidades, x = 'Sales', y = 'City').set(title = 'Top 10 cidades com mais vendas')\n",
    "plt.show()"
   ]
  },
  {
   "cell_type": "markdown",
   "metadata": {
    "application/vnd.databricks.v1+cell": {
     "cellMetadata": {
      "byteLimit": 2048000,
      "rowLimit": 10000
     },
     "inputWidgets": {},
     "nuid": "a493326b-bc4a-46d5-91ee-d3aea9faff1f",
     "showTitle": false,
     "tableResultSettingsMap": {},
     "title": ""
    }
   },
   "source": [
    "**5** - Qual o **segmento** com mais **vendas**? (Em gráfico de pizza)"
   ]
  },
  {
   "cell_type": "code",
   "execution_count": 0,
   "metadata": {
    "application/vnd.databricks.v1+cell": {
     "cellMetadata": {
      "byteLimit": 2048000,
      "rowLimit": 10000
     },
     "inputWidgets": {},
     "nuid": "7524b69d-aab2-4b66-bf99-d5647d2aacb7",
     "showTitle": false,
     "tableResultSettingsMap": {},
     "title": ""
    }
   },
   "outputs": [],
   "source": [
    "df['Sales'] = df['Sales'].astype(float)\n",
    "group_segmentos_vendas = df.groupby('Segment')['Sales'].sum().reset_index()\n",
    "top_segmentos_vendas = group_segmentos_vendas.sort_values(by='Sales', ascending=False)\n",
    "\n",
    "def autopct_format(values):\n",
    "    def my_format(pct):\n",
    "        total = sum(values)\n",
    "        val = int(round(pct * total / 100.0))\n",
    "        return ' $ {v:d}'.format(v=val)\n",
    "    return my_format\n",
    "\n",
    "plt.figure(figsize=(16, 6))\n",
    "plt.pie(top_segmentos_vendas['Sales'], labels=top_segmentos_vendas['Segment'], autopct=autopct_format(top_segmentos_vendas['Sales'].values), startangle=90)\n",
    "centro_circulo = plt.Circle((0, 0), 0.82, fc='white')\n",
    "figura = plt.gcf()\n",
    "figura.gca().add_artist(centro_circulo)\n",
    "\n",
    "plt.annotate(text='Total vendas: ' + ' $ ' + str(int(sum(top_segmentos_vendas['Sales']))), xy=(-0.25, 0))\n",
    "plt.title('Total de vendas por Segmento')\n",
    "plt.show()"
   ]
  }
 ],
 "metadata": {
  "application/vnd.databricks.v1+notebook": {
   "computePreferences": null,
   "dashboards": [],
   "environmentMetadata": {
    "base_environment": "",
    "environment_version": "2"
   },
   "inputWidgetPreferences": null,
   "language": "python",
   "notebookMetadata": {
    "mostRecentlyExecutedCommandWithImplicitDF": {
     "commandId": 8708648462145611,
     "dataframes": [
      "_sqldf"
     ]
    },
    "pythonIndentUnit": 4
   },
   "notebookName": "Analyze",
   "widgets": {}
  },
  "language_info": {
   "name": "python"
  }
 },
 "nbformat": 4,
 "nbformat_minor": 0
}
