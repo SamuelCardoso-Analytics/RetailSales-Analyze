{
 "cells": [
  {
   "cell_type": "code",
   "execution_count": 0,
   "metadata": {
    "application/vnd.databricks.v1+cell": {
     "cellMetadata": {
      "byteLimit": 2048000,
      "rowLimit": 10000
     },
     "collapsed": true,
     "inputWidgets": {},
     "nuid": "cd734d60-724e-4be8-bf73-4556611a496a",
     "showTitle": false,
     "tableResultSettingsMap": {},
     "title": ""
    }
   },
   "outputs": [],
   "source": [
    "import numpy as np \n",
    "import pandas as pd \n",
    "import matplotlib.pyplot as plt\n",
    "import seaborn as sns \n",
    "import datetime as dt "
   ]
  },
  {
   "cell_type": "code",
   "execution_count": 0,
   "metadata": {
    "application/vnd.databricks.v1+cell": {
     "cellMetadata": {
      "byteLimit": 2048000,
      "rowLimit": 10000
     },
     "inputWidgets": {},
     "nuid": "6ebab178-309f-4ace-9ee7-ab0fb3516108",
     "showTitle": false,
     "tableResultSettingsMap": {},
     "title": ""
    }
   },
   "outputs": [],
   "source": [
    "df = spark.table('default.sample_superstore')\n",
    "df = df.toPandas()\n",
    "\n",
    "# Convertendo cada resultado para string\n",
    "qnt_linhas = str(df.shape)\n",
    "nome_colunas = str(df.columns.tolist())\n",
    "tipo_dados = str(df.dtypes.to_dict())\n",
    "estat_resumo = df['Sales'].describe().to_string()\n",
    "qnt_duplicados = str(df[df.duplicated()].shape[0])  # Número de linhas duplicadas\n",
    "qnt_nulos = str(df.isnull().sum().to_dict())  # Dicionário de nulos por coluna\n",
    "\n",
    "analise_exploratoria = pd.DataFrame({\n",
    "    'Análise': ['Quantidade linhas/colunas', 'Nome das colunas', 'Tipo de dados das colunas', 'Resumo estatístico (Vendas)', 'Total dados duplicados', 'Total dados nulos'],\n",
    "    'Resultados': [qnt_linhas,nome_colunas,tipo_dados,estat_resumo,qnt_duplicados,qnt_nulos]\n",
    "})\n",
    "\n",
    "# analise_exploratoria.to_markdown()\n",
    "display(analise_exploratoria)\n",
    "analise_exploratoria.to_markdown()"
   ]
  },
  {
   "cell_type": "markdown",
   "metadata": {
    "application/vnd.databricks.v1+cell": {
     "cellMetadata": {
      "byteLimit": 2048000,
      "rowLimit": 10000
     },
     "inputWidgets": {},
     "nuid": "e4261da0-a64e-4898-b7cf-c741e98da911",
     "showTitle": false,
     "tableResultSettingsMap": {},
     "title": ""
    }
   },
   "source": [
    " **1** - Qual a **cidade** com maior **valor de venda** de produtos da **categoria** Office Supplies?"
   ]
  },
  {
   "cell_type": "code",
   "execution_count": 0,
   "metadata": {
    "application/vnd.databricks.v1+cell": {
     "cellMetadata": {
      "byteLimit": 2048000,
      "rowLimit": 10000
     },
     "inputWidgets": {},
     "nuid": "1ef4b743-d0c9-4613-a9dd-3da3568857b8",
     "showTitle": false,
     "tableResultSettingsMap": {},
     "title": ""
    }
   },
   "outputs": [],
   "source": [
    "filtro_categoria = df[df['Category'] == 'Office Supplies']\n",
    "group_cidade_venda = filtro_categoria.groupby('City', as_index= False)['Sales'].sum()\n",
    "ranking = group_cidade_venda.sort_values('Sales', ascending = False).head(3)\n",
    "display(ranking)\n",
    "ranking.to_markdown()"
   ]
  },
  {
   "cell_type": "markdown",
   "metadata": {
    "application/vnd.databricks.v1+cell": {
     "cellMetadata": {
      "byteLimit": 2048000,
      "rowLimit": 10000
     },
     "inputWidgets": {},
     "nuid": "9a03a568-c2fd-4250-91d4-c6535c0d0e41",
     "showTitle": false,
     "tableResultSettingsMap": {},
     "title": ""
    }
   },
   "source": [
    "**2** - Qual o total de **vendas** por **data do pedido**? (Em gráfico de barras)"
   ]
  },
  {
   "cell_type": "code",
   "execution_count": 0,
   "metadata": {
    "application/vnd.databricks.v1+cell": {
     "cellMetadata": {
      "byteLimit": 2048000,
      "rowLimit": 10000
     },
     "inputWidgets": {},
     "nuid": "a1b783bb-68ac-4f66-bbf9-3b49cd581969",
     "showTitle": false,
     "tableResultSettingsMap": {},
     "title": ""
    }
   },
   "outputs": [],
   "source": [
    "df['Order Date'] = pd.to_datetime(df['Order Date'])\n",
    "group_vendas_data = df.groupby('Order Date')['Sales'].sum().reset_index()\n",
    "plt.figure(figsize=(20, 6))\n",
    "plt.plot(group_vendas_data['Order Date'], group_vendas_data['Sales'], color='green')\n",
    "plt.title('Total de vendas por data de pedido')\n",
    "plt.xlabel('Order Date')\n",
    "plt.ylabel('Sales')\n",
    "plt.savefig('total_vendas_data.png')\n",
    "plt.show()"
   ]
  },
  {
   "cell_type": "markdown",
   "metadata": {
    "application/vnd.databricks.v1+cell": {
     "cellMetadata": {
      "byteLimit": 2048000,
      "rowLimit": 10000
     },
     "inputWidgets": {},
     "nuid": "2b41f297-494d-494f-809d-3ed1c4643e23",
     "showTitle": false,
     "tableResultSettingsMap": {},
     "title": ""
    }
   },
   "source": [
    "**3** - Qual o total de **vendas** por **estado**? (Em gráfico de barras)"
   ]
  },
  {
   "cell_type": "code",
   "execution_count": 0,
   "metadata": {
    "application/vnd.databricks.v1+cell": {
     "cellMetadata": {
      "byteLimit": 2048000,
      "rowLimit": 10000
     },
     "inputWidgets": {},
     "nuid": "5afba6c8-7e87-46ba-8803-047a62751c5d",
     "showTitle": false,
     "tableResultSettingsMap": {},
     "title": ""
    }
   },
   "outputs": [],
   "source": [
    "group_estado_venda = df.groupby('State')['Sales'].sum().reset_index()\n",
    "plt.figure(figsize = (16, 6))\n",
    "sns.barplot(data = group_estado_venda, y = 'Sales', x = 'State').set(title = 'Quantidade de vendas por estado')\n",
    "plt.xticks(rotation = 80)\n",
    "plt.savefig('quantidade_vendas_estado.png')\n",
    "plt.show()"
   ]
  }
 ],
 "metadata": {
  "application/vnd.databricks.v1+notebook": {
   "computePreferences": null,
   "dashboards": [],
   "environmentMetadata": {
    "base_environment": "",
    "environment_version": "2"
   },
   "inputWidgetPreferences": null,
   "language": "python",
   "notebookMetadata": {
    "mostRecentlyExecutedCommandWithImplicitDF": {
     "commandId": 6396871537397801,
     "dataframes": [
      "_sqldf"
     ]
    },
    "pythonIndentUnit": 4
   },
   "notebookName": "Analyze",
   "widgets": {}
  },
  "language_info": {
   "name": "python"
  }
 },
 "nbformat": 4,
 "nbformat_minor": 0
}
