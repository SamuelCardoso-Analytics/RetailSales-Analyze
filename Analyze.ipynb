{
 "cells": [
  {
   "cell_type": "code",
   "execution_count": 0,
   "metadata": {
    "application/vnd.databricks.v1+cell": {
     "cellMetadata": {
      "byteLimit": 2048000,
      "rowLimit": 10000
     },
     "collapsed": true,
     "inputWidgets": {},
     "nuid": "cd734d60-724e-4be8-bf73-4556611a496a",
     "showTitle": false,
     "tableResultSettingsMap": {},
     "title": ""
    }
   },
   "outputs": [],
   "source": [
    "import numpy as np \n",
    "import pandas as pd \n",
    "import matplotlib.pyplot as plt\n",
    "import seaborn as sns \n",
    "import datetime as dt "
   ]
  },
  {
   "cell_type": "code",
   "execution_count": 0,
   "metadata": {
    "application/vnd.databricks.v1+cell": {
     "cellMetadata": {
      "byteLimit": 2048000,
      "rowLimit": 10000
     },
     "collapsed": true,
     "inputWidgets": {},
     "nuid": "6ebab178-309f-4ace-9ee7-ab0fb3516108",
     "showTitle": false,
     "tableResultSettingsMap": {},
     "title": ""
    }
   },
   "outputs": [],
   "source": [
    "df = spark.table('default.sample_superstore')\n",
    "df = df.toPandas()\n",
    "\n",
    "qnt_linhas = df.shape \n",
    "nome_colunas = df.columns\n",
    "tipo_dados = df.dtypes\n",
    "estat_resumo = df['Sales'].describe() # valido somente para variaveis quantitativa\n",
    "qnt_duplicados = df[df.duplicated]\n",
    "qnt_nulos = df.isnull().sum()\n",
    "\n",
    "analise_exploratoria = (\n",
    "    f'Quatidade de linhas por colunas: {qnt_linhas}\\n'\n",
    "    '\\n'\n",
    "    f'Nome das colunas: \\n{nome_colunas}\\n'\n",
    "    '\\n'\n",
    "    f'Tipo de dado de cada coluna: \\n{tipo_dados}\\n'\n",
    "    '\\n'\n",
    "    f'Resumo estatístico da coluna vendas: \\n{estat_resumo}\\n'\n",
    "    '\\n'\n",
    "    f'Dados duplicados: \\n{qnt_duplicados}\\n'\n",
    "    '\\n'\n",
    "    f'Dados nulos: \\n{qnt_nulos}\\n'\n",
    ")\n",
    "\n",
    "print(analise_exploratoria)"
   ]
  },
  {
   "cell_type": "markdown",
   "metadata": {
    "application/vnd.databricks.v1+cell": {
     "cellMetadata": {
      "byteLimit": 2048000,
      "rowLimit": 10000
     },
     "inputWidgets": {},
     "nuid": "e4261da0-a64e-4898-b7cf-c741e98da911",
     "showTitle": false,
     "tableResultSettingsMap": {},
     "title": ""
    }
   },
   "source": [
    "1 - Qual a **cidade** com maior **valor de venda** de produtos da **categoria** Office Supplies?"
   ]
  },
  {
   "cell_type": "code",
   "execution_count": 0,
   "metadata": {
    "application/vnd.databricks.v1+cell": {
     "cellMetadata": {
      "byteLimit": 2048000,
      "rowLimit": 10000
     },
     "collapsed": true,
     "inputWidgets": {},
     "nuid": "1ef4b743-d0c9-4613-a9dd-3da3568857b8",
     "showTitle": false,
     "tableResultSettingsMap": {},
     "title": ""
    }
   },
   "outputs": [],
   "source": [
    "filtro_categoria = df[df['Category'] == 'Office Supplies']\n",
    "group_cidade_venda = filtro_categoria.groupby('City')['Sales'].sum()\n",
    "cidade_maior_venda = group_cidade_venda.sort_values(ascending=False).first_valid_index()\n",
    "ranking = group_cidade_venda.sort_values(ascending = False)\n",
    "print(f'Ranking das cidades com maior valor de venda da categoria Office Supplies: \\n{ranking}\\n'\n",
    "      f'Sendo a cidade com maior valor {cidade_maior_venda}')"
   ]
  }
 ],
 "metadata": {
  "application/vnd.databricks.v1+notebook": {
   "computePreferences": null,
   "dashboards": [],
   "environmentMetadata": {
    "base_environment": "",
    "environment_version": "2"
   },
   "inputWidgetPreferences": null,
   "language": "python",
   "notebookMetadata": {
    "mostRecentlyExecutedCommandWithImplicitDF": {
     "commandId": 6398765351870004,
     "dataframes": [
      "_sqldf"
     ]
    },
    "pythonIndentUnit": 4
   },
   "notebookName": "Analyze",
   "widgets": {}
  },
  "language_info": {
   "name": "python"
  }
 },
 "nbformat": 4,
 "nbformat_minor": 0
}
